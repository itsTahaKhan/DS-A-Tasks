{
  "nbformat": 4,
  "nbformat_minor": 0,
  "metadata": {
    "colab": {
      "provenance": [],
      "authorship_tag": "ABX9TyOuShTlCHbQ/erxi4w8+qS+",
      "include_colab_link": true
    },
    "kernelspec": {
      "name": "python3",
      "display_name": "Python 3"
    },
    "language_info": {
      "name": "python"
    }
  },
  "cells": [
    {
      "cell_type": "markdown",
      "metadata": {
        "id": "view-in-github",
        "colab_type": "text"
      },
      "source": [
        "<a href=\"https://colab.research.google.com/github/Celestial00/DS-A/blob/main/20sw050(lab10).ipynb\" target=\"_parent\"><img src=\"https://colab.research.google.com/assets/colab-badge.svg\" alt=\"Open In Colab\"/></a>"
      ]
    },
    {
      "cell_type": "code",
      "execution_count": 12,
      "metadata": {
        "colab": {
          "base_uri": "https://localhost:8080/"
        },
        "id": "xm71NpG87Ty1",
        "outputId": "a5e1ae9a-a745-43e2-8e4e-ee8fadd9b348"
      },
      "outputs": [
        {
          "output_type": "stream",
          "name": "stdout",
          "text": [
            "Decision Tree Classifier:\n",
            "Accuracy: 1.0\n",
            "Precision: 0.0\n",
            "Recall: 0.0\n",
            "F1 Score: 0.0\n",
            "Confusion Matrix:\n",
            "[[10]]\n",
            "\n",
            "Naïve Bayes Classifier:\n",
            "Accuracy: 1.0\n",
            "Precision: 0.0\n",
            "Recall: 0.0\n",
            "F1 Score: 0.0\n"
          ]
        },
        {
          "output_type": "stream",
          "name": "stderr",
          "text": [
            "/usr/local/lib/python3.10/dist-packages/sklearn/metrics/_classification.py:1344: UndefinedMetricWarning: Precision is ill-defined and being set to 0.0 due to no predicted samples. Use `zero_division` parameter to control this behavior.\n",
            "  _warn_prf(average, modifier, msg_start, len(result))\n",
            "/usr/local/lib/python3.10/dist-packages/sklearn/metrics/_classification.py:1344: UndefinedMetricWarning: Recall is ill-defined and being set to 0.0 due to no true samples. Use `zero_division` parameter to control this behavior.\n",
            "  _warn_prf(average, modifier, msg_start, len(result))\n",
            "/usr/local/lib/python3.10/dist-packages/sklearn/metrics/_classification.py:1609: UndefinedMetricWarning: F-score is ill-defined and being set to 0.0 due to no true nor predicted samples. Use `zero_division` parameter to control this behavior.\n",
            "  _warn_prf(average, \"true nor predicted\", \"F-score is\", len(true_sum))\n",
            "/usr/local/lib/python3.10/dist-packages/sklearn/metrics/_classification.py:1344: UndefinedMetricWarning: Precision is ill-defined and being set to 0.0 due to no predicted samples. Use `zero_division` parameter to control this behavior.\n",
            "  _warn_prf(average, modifier, msg_start, len(result))\n",
            "/usr/local/lib/python3.10/dist-packages/sklearn/metrics/_classification.py:1344: UndefinedMetricWarning: Recall is ill-defined and being set to 0.0 due to no true samples. Use `zero_division` parameter to control this behavior.\n",
            "  _warn_prf(average, modifier, msg_start, len(result))\n",
            "/usr/local/lib/python3.10/dist-packages/sklearn/metrics/_classification.py:1609: UndefinedMetricWarning: F-score is ill-defined and being set to 0.0 due to no true nor predicted samples. Use `zero_division` parameter to control this behavior.\n",
            "  _warn_prf(average, \"true nor predicted\", \"F-score is\", len(true_sum))\n"
          ]
        }
      ],
      "source": [
        "import pandas as pd\n",
        "from sklearn.model_selection import train_test_split\n",
        "from sklearn.tree import DecisionTreeClassifier\n",
        "from sklearn.naive_bayes import GaussianNB\n",
        "from sklearn.preprocessing import OneHotEncoder\n",
        "from sklearn.compose import ColumnTransformer\n",
        "from sklearn.pipeline import Pipeline\n",
        "from sklearn.metrics import accuracy_score, precision_score, recall_score, f1_score, confusion_matrix\n",
        "\n",
        "# Load the data\n",
        "data = pd.read_csv('data.csv')\n",
        "\n",
        "# Drop non-numeric columns 'nameOrig' and 'nameDest'\n",
        "data = data.drop(['nameOrig', 'nameDest'], axis=1)\n",
        "\n",
        "# Separate features and target variable\n",
        "X = data.drop(['isFraud'], axis=1)\n",
        "y = data['isFraud']\n",
        "\n",
        "# Define columns to be one-hot encoded\n",
        "categorical_cols = ['type']\n",
        "\n",
        "# Create a preprocessing pipeline\n",
        "preprocessor = ColumnTransformer(\n",
        "    transformers=[\n",
        "        ('cat', OneHotEncoder(), categorical_cols),\n",
        "    ],\n",
        "    remainder='passthrough'\n",
        ")\n",
        "\n",
        "# Create and train the Decision Tree classifier\n",
        "dt_classifier = DecisionTreeClassifier(random_state=42)\n",
        "pipeline_dt = Pipeline(steps=[('preprocessor', preprocessor),\n",
        "                              ('classifier', dt_classifier)])\n",
        "pipeline_dt.fit(X, y)\n",
        "\n",
        "# Split the dataset into training and testing sets\n",
        "X_train, X_test, y_train, y_test = train_test_split(X, y, test_size=0.2, random_state=42)\n",
        "\n",
        "# Create and train the Naïve Bayes classifier\n",
        "nb_classifier = GaussianNB()\n",
        "pipeline_nb = Pipeline(steps=[('preprocessor', preprocessor),\n",
        "                              ('classifier', nb_classifier)])\n",
        "pipeline_nb.fit(X_train, y_train)\n",
        "\n",
        "# Predictions\n",
        "dt_predictions = pipeline_dt.predict(X_test)\n",
        "nb_predictions = pipeline_nb.predict(X_test)\n",
        "\n",
        "# Calculate evaluation metrics\n",
        "dt_accuracy = accuracy_score(y_test, dt_predictions)\n",
        "dt_precision = precision_score(y_test, dt_predictions, zero_division='warn')\n",
        "dt_recall = recall_score(y_test, dt_predictions, zero_division='warn')\n",
        "dt_f1 = f1_score(y_test, dt_predictions, zero_division='warn')\n",
        "dt_confusion_matrix = confusion_matrix(y_test, dt_predictions)\n",
        "\n",
        "nb_accuracy = accuracy_score(y_test, nb_predictions)\n",
        "nb_precision = precision_score(y_test, nb_predictions, zero_division='warn')\n",
        "nb_recall = recall_score(y_test, nb_predictions, zero_division='warn')\n",
        "nb_f1 = f1_score(y_test, nb_predictions, zero_division='warn')\n",
        "nb_confusion_matrix = confusion_matrix(y_test, nb_predictions)\n",
        "\n",
        "# Print the results\n",
        "print(\"Decision Tree Classifier:\")\n",
        "print(f\"Accuracy: {dt_accuracy}\")\n",
        "print(f\"Precision: {dt_precision}\")\n",
        "print(f\"Recall: {dt_recall}\")\n",
        "print(f\"F1 Score: {dt_f1}\")\n",
        "print(f\"Confusion Matrix:\\n{dt_confusion_matrix}\")\n",
        "\n",
        "print(\"\\nNaïve Bayes Classifier:\")\n",
        "print(f\"Accuracy: {nb_accuracy}\")\n",
        "print(f\"Precision: {nb_precision}\")\n",
        "print(f\"Recall: {nb_recall}\")\n",
        "print(f\"F1 Score: {nb_f1}\")\n"
      ]
    }
  ]
}