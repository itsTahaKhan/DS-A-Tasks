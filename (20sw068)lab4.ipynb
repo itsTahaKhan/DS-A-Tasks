{
  "nbformat": 4,
  "nbformat_minor": 0,
  "metadata": {
    "colab": {
      "provenance": [],
      "authorship_tag": "ABX9TyPCbUQIurwRN/njKoEOaBzm",
      "include_colab_link": true
    },
    "kernelspec": {
      "name": "python3",
      "display_name": "Python 3"
    },
    "language_info": {
      "name": "python"
    }
  },
  "cells": [
    {
      "cell_type": "markdown",
      "metadata": {
        "id": "view-in-github",
        "colab_type": "text"
      },
      "source": [
        "<a href=\"https://colab.research.google.com/github/Celestial00/DS-A/blob/main/(20sw050)lab4.ipynb\" target=\"_parent\"><img src=\"https://colab.research.google.com/assets/colab-badge.svg\" alt=\"Open In Colab\"/></a>"
      ]
    },
    {
      "cell_type": "code",
      "execution_count": 2,
      "metadata": {
        "colab": {
          "base_uri": "https://localhost:8080/"
        },
        "id": "ArFfpG04kDXb",
        "outputId": "8735269b-85e3-4515-a0e1-ad63a2e95f5f"
      },
      "outputs": [
        {
          "output_type": "execute_result",
          "data": {
            "text/plain": [
              "2.5"
            ]
          },
          "metadata": {},
          "execution_count": 2
        }
      ],
      "source": [
        "import numpy as np\n",
        "\n",
        "sts = [1,2,3,4]\n",
        "\n",
        "np.mean(sts)"
      ]
    },
    {
      "cell_type": "markdown",
      "source": [
        "Task#1\n"
      ],
      "metadata": {
        "id": "Fkju1ouDv5Z8"
      }
    },
    {
      "cell_type": "code",
      "source": [
        "import numpy as np\n",
        "\n",
        "# Create a 1000 x 20 ndarray with random integers in the half-open interval [0, 5001).\n",
        "X = np.random.randint(0, 5001, size=(1000, 20))\n",
        "\n",
        "# Print the shape of X\n",
        "print(X.shape)"
      ],
      "metadata": {
        "colab": {
          "base_uri": "https://localhost:8080/"
        },
        "id": "Kjhy7wuSv7Hn",
        "outputId": "d41fb557-e23e-4b32-96a0-aecdd7bb5e2c"
      },
      "execution_count": 3,
      "outputs": [
        {
          "output_type": "stream",
          "name": "stdout",
          "text": [
            "(1000, 20)\n"
          ]
        }
      ]
    },
    {
      "cell_type": "markdown",
      "source": [
        "Task#2"
      ],
      "metadata": {
        "id": "Fgk9fkYcwDNW"
      }
    },
    {
      "cell_type": "code",
      "source": [
        "import numpy as np\n",
        "\n",
        "\n",
        "avg_cols = np.mean(X, axis=0)\n",
        "\n",
        "std_cols = np.std(X, axis=0)\n",
        "\n",
        "print(\"Average of each column:\", avg_cols)\n",
        "print(\"Standard deviation of each column:\", std_cols)"
      ],
      "metadata": {
        "colab": {
          "base_uri": "https://localhost:8080/"
        },
        "id": "zez7t8BmwEsX",
        "outputId": "458ca04f-bc15-4eeb-c2b3-adc45e0852fa"
      },
      "execution_count": 4,
      "outputs": [
        {
          "output_type": "stream",
          "name": "stdout",
          "text": [
            "Average of each column: [2490.159 2514.83  2462.499 2349.009 2486.877 2472.495 2428.68  2517.084\n",
            " 2546.564 2512.62  2561.593 2401.372 2519.596 2509.198 2544.845 2549.329\n",
            " 2468.506 2506.882 2557.049 2560.357]\n",
            "Standard deviation of each column: [1437.63473237 1450.77446459 1427.60068016 1447.30654283 1460.17265276\n",
            " 1426.85155359 1443.31535903 1462.93662301 1418.50271692 1432.7469496\n",
            " 1444.71791757 1417.03744609 1393.71542102 1466.78015967 1488.84898394\n",
            " 1432.06219794 1475.60680195 1427.82818577 1443.05782025 1444.20426933]\n"
          ]
        }
      ]
    },
    {
      "cell_type": "markdown",
      "source": [
        "Task#3"
      ],
      "metadata": {
        "id": "hGU18U0owMXm"
      }
    },
    {
      "cell_type": "code",
      "source": [
        "import numpy as np\n",
        "\n",
        "# Assuming you have already created the ndarray X\n",
        "\n",
        "# Calculate the mean and standard deviation of each column\n",
        "mean_cols = np.mean(X, axis=0)\n",
        "std_cols = np.std(X, axis=0)\n",
        "\n",
        "# Mean normalize X\n",
        "X_norm = (X - mean_cols) / std_cols\n",
        "\n",
        "print(\"Mean normalized X:\")\n",
        "print(X_norm)"
      ],
      "metadata": {
        "colab": {
          "base_uri": "https://localhost:8080/"
        },
        "id": "Fgacjzv7wNzi",
        "outputId": "b04ced8f-0265-4822-ddc4-f39143468cfa"
      },
      "execution_count": 5,
      "outputs": [
        {
          "output_type": "stream",
          "name": "stdout",
          "text": [
            "Mean normalized X:\n",
            "[[ 0.23221545  0.19656398 -1.43632532 ... -0.46285821 -0.67152472\n",
            "  -1.69183616]\n",
            " [ 1.32220025 -1.39568903  0.38211035 ...  1.56189521 -0.48857987\n",
            "   1.38390603]\n",
            " [ 0.66347938  1.26840529 -0.75896503 ...  0.87623848  0.26190981\n",
            "   0.5426123 ]\n",
            " ...\n",
            " [ 1.37923838  1.33871256  0.71273502 ...  1.28104909 -0.44769447\n",
            "   0.51976235]\n",
            " [-0.459198    0.39783579 -1.32424916 ... -1.46648037 -0.85862741\n",
            "   0.43459434]\n",
            " [ 0.40472102 -0.13636165 -1.40970723 ...  0.32435135  0.02699199\n",
            "  -1.32831417]]\n"
          ]
        }
      ]
    },
    {
      "cell_type": "markdown",
      "source": [
        "Task#4"
      ],
      "metadata": {
        "id": "62oCuvpAwcxJ"
      }
    },
    {
      "cell_type": "code",
      "source": [
        "import numpy as np\n",
        "\n",
        "# Assuming you have already mean normalized X and stored it as X_norm\n",
        "\n",
        "# Print the average of all the values of X_norm\n",
        "average_all_values = np.mean(X_norm)\n",
        "print(\"Average of all values in X_norm:\", average_all_values)\n",
        "\n",
        "# Print the average of the minimum value in each column of X_norm\n",
        "average_min_values = np.mean(np.min(X_norm, axis=0))\n",
        "print(\"Average of minimum values in each column of X_norm:\", average_min_values)\n",
        "\n",
        "# Print the average of the maximum value in each column of X_norm\n",
        "average_max_values = np.mean(np.max(X_norm, axis=0))\n",
        "print(\"Average of maximum values in each column of X_norm:\", average_max_values)\n"
      ],
      "metadata": {
        "colab": {
          "base_uri": "https://localhost:8080/"
        },
        "id": "ig9cdgUvwd2u",
        "outputId": "cb9efed1-2465-4017-9df1-de6ea9a1c969"
      },
      "execution_count": 6,
      "outputs": [
        {
          "output_type": "stream",
          "name": "stdout",
          "text": [
            "Average of all values in X_norm: 4.8672177399566864e-17\n",
            "Average of minimum values in each column of X_norm: -1.7297605263893243\n",
            "Average of maximum values in each column of X_norm: 1.7294984842847192\n"
          ]
        }
      ]
    },
    {
      "cell_type": "markdown",
      "source": [
        "tASK#5"
      ],
      "metadata": {
        "id": "iVflU1TRwnk0"
      }
    },
    {
      "cell_type": "code",
      "source": [
        "import numpy as np\n",
        "\n",
        "\n",
        "num_samples = X_norm.shape[0]\n",
        "\n",
        "\n",
        "permuted_indices = np.random.permutation(num_samples)\n",
        "\n",
        "\n",
        "train_size = int(0.6 * num_samples)\n",
        "cv_size = int(0.2 * num_samples)\n",
        "test_size = num_samples - train_size - cv_size\n",
        "\n",
        "\n",
        "train_set = X_norm[permuted_indices[:train_size]]\n",
        "cv_set = X_norm[permuted_indices[train_size:train_size+cv_size]]\n",
        "test_set = X_norm[permuted_indices[train_size+cv_size:]]\n",
        "\n",
        "print(\"Training Set shape:\", train_set.shape)\n",
        "print(\"Cross Validation Set shape:\", cv_set.shape)\n",
        "print(\"Test Set shape:\", test_set.shape)"
      ],
      "metadata": {
        "colab": {
          "base_uri": "https://localhost:8080/"
        },
        "id": "So-3Kh0EwpE8",
        "outputId": "9d42fbdb-01af-4702-ddad-cc2e021ce74c"
      },
      "execution_count": 7,
      "outputs": [
        {
          "output_type": "stream",
          "name": "stdout",
          "text": [
            "Training Set shape: (600, 20)\n",
            "Cross Validation Set shape: (200, 20)\n",
            "Test Set shape: (200, 20)\n"
          ]
        }
      ]
    },
    {
      "cell_type": "markdown",
      "source": [
        "Task#6"
      ],
      "metadata": {
        "id": "zYGjQD2SxDLJ"
      }
    },
    {
      "cell_type": "code",
      "source": [
        "import numpy as np\n",
        "\n",
        "permuted_indices = np.random.permutation(X_norm.shape[0])\n",
        "\n",
        "permuted_indices"
      ],
      "metadata": {
        "colab": {
          "base_uri": "https://localhost:8080/"
        },
        "id": "Ydcf3qbhxEhi",
        "outputId": "2e576b62-9293-479d-a4fc-2ba74040f1aa"
      },
      "execution_count": 13,
      "outputs": [
        {
          "output_type": "execute_result",
          "data": {
            "text/plain": [
              "array([469, 376, 971, 123, 233, 581, 859, 263, 791, 181, 180, 754, 201,\n",
              "       843, 222, 794, 480, 699, 276, 388, 495, 611, 530, 911, 771, 878,\n",
              "       948, 218, 236, 195,  13, 860, 488, 258, 604,  29, 664, 532, 364,\n",
              "       925, 590,  12, 314, 790, 540, 921, 957, 703, 210, 623, 457, 809,\n",
              "        86, 770,  35, 465, 733, 299, 564, 399, 915, 393, 995, 513, 685,\n",
              "       850, 865, 189, 274, 392,  59, 993, 725, 162, 654, 759, 534, 898,\n",
              "       379, 986, 945, 533, 403, 555, 111, 982, 709, 438,  55, 497, 852,\n",
              "       333, 373, 882, 934, 740, 775, 888, 855, 395, 512,  64, 153, 161,\n",
              "       522,  26, 547, 782, 885, 777, 264, 830, 568,  31, 121, 449, 565,\n",
              "        49, 669, 375,  15, 107, 570, 846,  28, 999, 129, 196, 461, 131,\n",
              "       374, 214,   3, 726, 228, 231, 244, 481, 281, 902, 215, 381, 341,\n",
              "       924, 174, 631, 755, 757, 877, 785, 781, 711, 768, 966, 804,  22,\n",
              "       475, 625, 394, 766, 893, 238, 361, 708, 847, 796,  27, 446, 288,\n",
              "       485, 666, 519, 246, 657,  52, 401, 706, 267, 780, 283, 634, 151,\n",
              "       208,  62, 234, 827, 285, 588, 456, 498, 280, 431, 451, 272, 118,\n",
              "       617, 910, 784, 325, 950, 334, 232, 913,  71, 899, 230, 421, 336,\n",
              "        41, 643, 223, 300, 729, 277, 487, 805, 424, 573, 386, 727, 124,\n",
              "       432, 826, 184, 278, 974, 508, 653, 295,  92, 891, 750, 668, 672,\n",
              "       396, 453, 661, 177, 628,  37, 529, 543, 160, 503, 490, 825, 741,\n",
              "       521, 287, 702,   7, 824, 504, 896, 848, 134, 306, 366,  45,  72,\n",
              "       248, 638, 580, 935, 748,  89, 834, 753, 633,  96, 347, 566, 410,\n",
              "       442, 464, 171, 425, 983, 164, 389, 505, 854, 812, 455,  58, 598,\n",
              "       856, 873, 240, 242, 353, 260, 744, 502, 108,   4, 823, 639, 815,\n",
              "        90, 526, 106, 802,  67, 527, 452, 345,  19, 137, 979, 832, 722,\n",
              "       599, 444, 955, 713, 907, 900, 868, 645, 908, 903, 704, 592, 736,\n",
              "       964, 186, 803, 351, 667, 445, 413, 472, 100, 352,  75, 629, 808,\n",
              "       122, 143, 404, 132, 716, 127, 443, 814, 574,  17, 887,  38, 262,\n",
              "       912, 844, 332, 360, 239, 714, 252, 864, 259, 340, 783, 471, 119,\n",
              "       284,  40,  94, 437, 875,   0,  91,  14, 315, 354, 428, 312, 515,\n",
              "       932, 467, 601, 193, 779, 656, 372, 105,  88, 734, 491, 147, 765,\n",
              "       872, 806, 863, 973,  73, 493, 211, 282, 441, 953, 298, 735, 980,\n",
              "       477, 776,  83, 919, 681, 613, 952, 614, 286, 113, 387, 743, 800,\n",
              "       940, 311, 290, 665, 659, 136, 788, 368,  74, 647, 209, 273, 191,\n",
              "       169, 429, 833, 459, 677, 198, 415, 516, 992, 338,  25, 841, 439,\n",
              "       309,  60, 786, 116, 801,   1, 544, 959,  95, 767, 838,  63, 154,\n",
              "       756, 969, 946, 840, 695, 126, 380, 831, 241, 188, 963, 575, 620,\n",
              "       102, 926, 760, 698, 229, 417, 956, 411, 216,  44, 797, 619, 987,\n",
              "       968,  36, 182, 146, 897, 226, 369, 737, 730, 346, 571, 712, 342,\n",
              "       125, 618, 676, 221, 626, 816, 378, 977, 168, 670, 206, 405, 179,\n",
              "       749, 857, 606, 692, 892, 792,  77, 447, 400, 600, 998, 149, 204,\n",
              "       217, 836, 130, 728, 235, 655, 155, 931, 861, 292, 541, 501,   8,\n",
              "       406, 114, 871, 473, 870, 133, 985, 938, 761, 507, 917, 224, 370,\n",
              "       158, 909, 192, 175, 308, 936, 707, 851, 589,  43, 390, 778, 548,\n",
              "       967,  39, 511, 560, 949, 853, 929, 587, 173, 690, 738, 583, 622,\n",
              "       190, 275, 849, 958, 343, 961,  82,  33, 384, 183, 537, 402,  47,\n",
              "       385, 567, 185, 322, 649, 138, 584, 440, 675, 462, 496,  16, 247,\n",
              "       594, 539, 894,  87,   2, 304, 514, 553, 951, 686, 268, 266, 237,\n",
              "        53, 845, 640,  18, 220, 769, 972, 397,  68, 383, 359, 813, 245,\n",
              "       506,  57, 265, 546, 101, 109, 430, 257, 922, 595, 752, 349, 774,\n",
              "       305, 212,  70, 310, 798,  20, 545, 205, 632, 500, 621, 603, 448,\n",
              "       928, 279, 742, 916, 303, 335, 636,   9, 499, 930, 294, 984, 296,\n",
              "       602, 609, 291, 408, 460, 474, 630, 165, 904, 787, 409, 895, 591,\n",
              "       140, 976, 739, 382, 316, 139, 820, 561, 658, 219, 939, 261, 981,\n",
              "       194, 407,  48,  84, 927, 538, 256,  10, 319, 745, 691,  97, 518,\n",
              "       576, 660, 942, 597, 200, 650, 884, 818, 762, 542, 324, 271, 551,\n",
              "       178, 641, 883, 525, 301, 651, 751, 531, 731, 605, 141, 167,  34,\n",
              "       329, 715, 937,  56, 293, 876, 747, 881, 414, 612, 874, 918, 837,\n",
              "       674, 463, 159, 616, 427, 172, 978, 255, 905, 717, 556, 572, 549,\n",
              "        69, 880, 249, 773, 321, 243, 289, 313,  54, 772, 466, 202, 270,\n",
              "       357,  98, 152, 648,   5,  51, 644, 470, 478, 355, 732, 758, 520,\n",
              "       523, 356, 135, 156, 593, 793, 646, 720, 120, 829, 563, 145, 528,\n",
              "       420,  21, 914,  80, 799, 697, 422,  30, 962, 684, 890,  65, 610,\n",
              "       842, 103, 975,  11, 320, 718,  46, 944, 535, 327, 203, 433, 596,\n",
              "       524, 362, 559, 763, 673, 585, 358, 225,  66, 990, 789, 954, 933,\n",
              "       879, 489, 317, 458, 965, 671,  23, 486, 988, 682, 689, 579, 663,\n",
              "       517, 724, 435, 150, 721, 811, 331, 251, 569, 705, 142, 419, 960,\n",
              "       416, 391, 577, 817,  24, 997, 652, 642,   6, 693, 115, 819, 886,\n",
              "       163,  78, 367, 637, 348, 197, 509, 989, 839, 562,  61, 365, 920,\n",
              "       344, 494, 822, 371,  81, 307,  99,  50, 468, 821, 700, 363,  32,\n",
              "       862, 337,  79, 679, 746,  93, 128, 187, 157, 207, 213, 558, 627,\n",
              "       867, 635, 454, 858, 166, 536, 996, 608, 117,  76, 828, 557, 339,\n",
              "       436, 683,  85, 795, 694, 426, 662, 412, 578, 554, 687, 901, 377,\n",
              "       970, 104, 476, 170, 923, 199, 552, 719, 947, 943, 582, 112, 991,\n",
              "       678, 398, 110, 710, 323, 835, 607, 889, 807, 482, 479, 550, 227,\n",
              "       696, 450, 586, 176, 624, 253, 302, 269, 866, 254, 680, 484, 148,\n",
              "       941, 869, 144, 318, 326, 418, 810,  42, 492, 250, 330, 483, 906,\n",
              "       615, 434, 510, 423, 297, 764, 701, 350, 994, 723, 328, 688])"
            ]
          },
          "metadata": {},
          "execution_count": 13
        }
      ]
    },
    {
      "cell_type": "markdown",
      "source": [
        "Task#6"
      ],
      "metadata": {
        "id": "O56zNRouxM_f"
      }
    },
    {
      "cell_type": "code",
      "source": [
        "import numpy as np\n",
        "\n",
        "\n",
        "permuted_indices = np.random.permutation(X_norm.shape[0])\n",
        "\n",
        "num_samples = X_norm.shape[0]\n",
        "train_size = int(0.6 * num_samples)\n",
        "cv_size = int(0.2 * num_samples)\n",
        "test_size = num_samples - train_size - cv_size\n",
        "\n",
        "X_train = X_norm[permuted_indices[:train_size]]\n",
        "X_crossVal = X_norm[permuted_indices[train_size:train_size+cv_size]]\n",
        "X_test = X_norm[permuted_indices[train_size+cv_size:]]\n",
        "\n",
        "\n",
        "X_train\n",
        "X_crossVal\n",
        "X_test\n"
      ],
      "metadata": {
        "colab": {
          "base_uri": "https://localhost:8080/"
        },
        "id": "B14MRT-_xORK",
        "outputId": "b3dad748-879c-4fa3-f5da-6268cf885279"
      },
      "execution_count": 11,
      "outputs": [
        {
          "output_type": "execute_result",
          "data": {
            "text/plain": [
              "array([[ 1.04466104,  1.44072704, -1.71301333, ..., -1.58204049,\n",
              "        -1.72830843,  0.77041941],\n",
              "       [-0.53293022,  0.03871725,  1.17084632, ..., -1.45667526,\n",
              "         1.01586435, -0.79861071],\n",
              "       [ 1.33332964,  0.8003794 , -0.2931485 , ..., -1.42235741,\n",
              "        -0.06933125,  0.95806599],\n",
              "       ...,\n",
              "       [ 0.63078679, -0.73328421, -1.71581524, ...,  0.46932678,\n",
              "         0.31873359, -1.27984458],\n",
              "       [-0.70334903, -1.53354643,  0.7365512 , ..., -0.04544104,\n",
              "         0.90568166,  1.52100575],\n",
              "       [-1.63404441, -1.70448961, -0.42623894, ..., -1.17442842,\n",
              "         0.02629902, -0.11241969]])"
            ]
          },
          "metadata": {},
          "execution_count": 11
        }
      ]
    }
  ]
}