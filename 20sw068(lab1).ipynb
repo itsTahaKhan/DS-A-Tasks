{
  "nbformat": 4,
  "nbformat_minor": 0,
  "metadata": {
    "colab": {
      "provenance": [],
      "authorship_tag": "ABX9TyORwOFvyIgijacV8MZ963BU",
      "include_colab_link": true
    },
    "kernelspec": {
      "name": "python3",
      "display_name": "Python 3"
    },
    "language_info": {
      "name": "python"
    }
  },
  "cells": [
    {
      "cell_type": "markdown",
      "metadata": {
        "id": "view-in-github",
        "colab_type": "text"
      },
      "source": [
        "<a href=\"https://colab.research.google.com/github/Celestial00/DS-A/blob/main/20sw050(lab1).ipynb\" target=\"_parent\"><img src=\"https://colab.research.google.com/assets/colab-badge.svg\" alt=\"Open In Colab\"/></a>"
      ]
    },
    {
      "cell_type": "markdown",
      "source": [
        "Lab-01 - Data Types and Operator's\n",
        "Roll No: 20sw050\n",
        "Section: 1"
      ],
      "metadata": {
        "id": "StBVi5fgH2Q2"
      }
    },
    {
      "cell_type": "code",
      "execution_count": 21,
      "metadata": {
        "colab": {
          "base_uri": "https://localhost:8080/"
        },
        "id": "hSZyQSJcG6WM",
        "outputId": "e0b55565-8159-4b1b-85fc-418dc43611ca"
      },
      "outputs": [
        {
          "output_type": "stream",
          "name": "stdout",
          "text": [
            "how are you doing?\n"
          ]
        }
      ],
      "source": [
        "\n",
        "print(\"how are {} {}\".format(\"you\", \"doing?\"))"
      ]
    },
    {
      "cell_type": "markdown",
      "source": [
        "Task#2"
      ],
      "metadata": {
        "id": "Jkb1fBRmOCIn"
      }
    },
    {
      "cell_type": "code",
      "source": [
        "# String Methods Examples\n",
        "\n",
        "# capitalize()\n",
        "text1 = \"hello world\"\n",
        "capitalized_text = text1.capitalize()\n",
        "print(capitalized_text)\n",
        "\n",
        "# casefold()\n",
        "text2 = \"Hello World\"\n",
        "casefolded_text = text2.casefold()\n",
        "print(casefolded_text)\n",
        "\n",
        "# center()\n",
        "text3 = \"Hello\"\n",
        "centered_text = text3.center(10, \"-\")\n",
        "print(centered_text)\n",
        "\n",
        "# count()\n",
        "text4 = \"Hello World\"\n",
        "count = text4.count(\"l\")\n",
        "print(count)\n",
        "\n",
        "# encode()\n",
        "text5 = \"Hello World\"\n",
        "encoded_text = text5.encode()\n",
        "print(encoded_text)\n",
        "\n",
        "# endswith()\n",
        "text6 = \"Hello World\"\n",
        "ends_with_world = text6.endswith(\"World\")\n",
        "print(ends_with_world)\n",
        "\n",
        "# expandtabs()\n",
        "text7 = \"Hello\\tWorld\"\n",
        "expanded_text = text7.expandtabs(4)\n",
        "print(expanded_text)\n",
        "\n",
        "# find()\n",
        "text8 = \"Hello World\"\n",
        "index = text8.find(\"World\")\n",
        "print(index)\n",
        "\n",
        "# format()\n",
        "name = \"Alice\"\n",
        "age = 25\n",
        "formatted_text = \"My name is {} and I'm {} years old.\".format(name, age)\n",
        "print(formatted_text)\n",
        "\n",
        "# isalnum()\n",
        "text9 = \"Hello123\"\n",
        "is_alnum = text9.isalnum()\n",
        "print(is_alnum)\n",
        "\n",
        "# isalpha()\n",
        "text10 = \"Hello\"\n",
        "is_alpha = text10.isalpha()\n",
        "print(is_alpha)\n",
        "\n",
        "# isdigit()\n",
        "text11 = \"123\"\n",
        "is_digit = text11.isdigit()\n",
        "print(is_digit)\n",
        "\n",
        "# islower()\n",
        "text12 = \"hello\"\n",
        "is_lower = text12.islower()\n",
        "print(is_lower)\n",
        "\n",
        "# isspace()\n",
        "text13 = \"   \"\n",
        "is_space = text13.isspace()\n",
        "print(is_space)\n",
        "\n",
        "# istitle()\n",
        "text14 = \"Hello World\"\n",
        "is_title = text14.istitle()\n",
        "print(is_title)  # Output: False\n",
        "\n",
        "# isupper()\n",
        "text15 = \"HELLO\"\n",
        "is_upper = text15.isupper()\n",
        "print(is_upper)  # Output: True\n"
      ],
      "metadata": {
        "id": "bMxUUvmyOEff"
      },
      "execution_count": null,
      "outputs": []
    },
    {
      "cell_type": "markdown",
      "source": [
        "Task#3"
      ],
      "metadata": {
        "id": "7zXHl5NoPyAh"
      }
    },
    {
      "cell_type": "code",
      "source": [
        "month = 8\n",
        "\n",
        "days_in_month = [31,28,31,30,31,30,31,31,30,31,30,31]\n",
        "\n",
        "print(days_in_month[month+1])\n"
      ],
      "metadata": {
        "colab": {
          "base_uri": "https://localhost:8080/"
        },
        "id": "9QnYgFqCPzks",
        "outputId": "105079c5-c193-490c-e5d0-7fab74b7e8be"
      },
      "execution_count": 28,
      "outputs": [
        {
          "output_type": "stream",
          "name": "stdout",
          "text": [
            "31\n"
          ]
        }
      ]
    },
    {
      "cell_type": "markdown",
      "source": [
        "Task#4"
      ],
      "metadata": {
        "id": "e1ghwPc1QxeE"
      }
    },
    {
      "cell_type": "code",
      "source": [
        "eclipse_dates = ['June 21, 2001', 'December 4, 2002', 'November 23, 2003',\n",
        " 'March 29, 2006', 'August 1, 2008', 'July 22, 2009',\n",
        " 'July 11, 2010', 'November 13, 2012', 'March 20, 2015',\n",
        " 'March 9, 2016']\n",
        "\n",
        "\n",
        "print(eclipse_dates[-3:])"
      ],
      "metadata": {
        "colab": {
          "base_uri": "https://localhost:8080/"
        },
        "id": "xi-sTQ5OQyum",
        "outputId": "d8280c9d-624a-452e-fb93-cc1bcbfd9a43"
      },
      "execution_count": 45,
      "outputs": [
        {
          "output_type": "stream",
          "name": "stdout",
          "text": [
            "['November 13, 2012', 'March 20, 2015', 'March 9, 2016']\n"
          ]
        }
      ]
    },
    {
      "cell_type": "markdown",
      "source": [
        "Task#5"
      ],
      "metadata": {
        "id": "kv-o9LRdSoEQ"
      }
    },
    {
      "cell_type": "code",
      "source": [
        "Students_data = {\n",
        "\n",
        "                 \"student-1\" : {\"name\" : \"ali\" , \"class\" : \"5\", \"grade\" : \"A\"},\n",
        "                 \"student-2\" : {\"name\" : \"osama\" , \"class\" : \"7\", \"grade\" : \"A\"},\n",
        "                 \"student-3\" : {\"name\" : \"sammer\" , \"class\" : \"9\", \"grade\" : \"A\"},\n",
        "                 \"student-4\" : {\"name\" : \"bilal\" , \"class\" : \"4\", \"grade\" : \"A\"},\n",
        "\n",
        "}\n",
        "\n",
        "print(Students_data)"
      ],
      "metadata": {
        "colab": {
          "base_uri": "https://localhost:8080/"
        },
        "id": "v21oQh6ESp4R",
        "outputId": "806012be-d702-4df0-fb99-fcbd4bbc3797"
      },
      "execution_count": 47,
      "outputs": [
        {
          "output_type": "stream",
          "name": "stdout",
          "text": [
            "{'student-1': {'name': 'ali', 'class': '5', 'grade': 'A'}, 'student-2': {'name': 'osama', 'class': '7', 'grade': 'A'}, 'student-3': {'name': 'sammer', 'class': '9', 'grade': 'A'}, 'student-4': {'name': 'bilal', 'class': '4', 'grade': 'A'}}\n"
          ]
        }
      ]
    }
  ]
}