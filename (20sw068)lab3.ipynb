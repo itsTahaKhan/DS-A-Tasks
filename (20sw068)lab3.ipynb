{
  "nbformat": 4,
  "nbformat_minor": 0,
  "metadata": {
    "colab": {
      "provenance": [],
      "authorship_tag": "ABX9TyOhltagsP496hLL9T97u7xh",
      "include_colab_link": true
    },
    "kernelspec": {
      "name": "python3",
      "display_name": "Python 3"
    },
    "language_info": {
      "name": "python"
    }
  },
  "cells": [
    {
      "cell_type": "markdown",
      "metadata": {
        "id": "view-in-github",
        "colab_type": "text"
      },
      "source": [
        "<a href=\"https://colab.research.google.com/github/Celestial00/DS-A/blob/main/(20sw050)lab3.ipynb\" target=\"_parent\"><img src=\"https://colab.research.google.com/assets/colab-badge.svg\" alt=\"Open In Colab\"/></a>"
      ]
    },
    {
      "cell_type": "markdown",
      "source": [
        "\n",
        "Task#1\n",
        "---\n",
        "\n"
      ],
      "metadata": {
        "id": "bMqYP6wdbqIn"
      }
    },
    {
      "cell_type": "code",
      "execution_count": null,
      "metadata": {
        "id": "L1jBusMiaSC1"
      },
      "outputs": [],
      "source": [
        "def population_density(population, land_area):\n",
        "    return population / land_area\n",
        "\n",
        "test1 = population_density(10, 1)\n",
        "expected_result1 = 10\n",
        "print(\"expected result: {}, actual result: {}\".format(expected_result1, test1))\n",
        "\n",
        "test2 = population_density(864816, 121.4)\n",
        "expected_result2 = 7123.6902801\n",
        "print(\"expected result: {}, actual result: {}\".format(expected_result2, test2))"
      ]
    },
    {
      "cell_type": "markdown",
      "source": [
        "Task#2"
      ],
      "metadata": {
        "id": "_BIU3lZibx9a"
      }
    },
    {
      "cell_type": "code",
      "source": [
        "def readable_timedelta(days):\n",
        "    weeks = days // 7\n",
        "    remaining_days = days % 7\n",
        "    return \"{} week(s) and {} day(s)\".format(weeks, remaining_days)\n",
        "\n",
        "print(readable_timedelta(10))"
      ],
      "metadata": {
        "id": "I6Ft4FZCbz78"
      },
      "execution_count": null,
      "outputs": []
    },
    {
      "cell_type": "markdown",
      "source": [
        "Task#3"
      ],
      "metadata": {
        "id": "sHEDqp_1b057"
      }
    },
    {
      "cell_type": "code",
      "source": [
        "numbers = [[34, 63, 88, 71, 29],\n",
        "           [90, 78, 51, 27, 45],\n",
        "           [63, 37, 85, 46, 22],\n",
        "           [51, 22, 34, 11, 18]]\n",
        "\n",
        "averages = list(map(lambda num_list: sum(num_list) / len(num_list), numbers))\n",
        "print(averages)"
      ],
      "metadata": {
        "id": "o9_pn4dab2IM"
      },
      "execution_count": null,
      "outputs": []
    },
    {
      "cell_type": "markdown",
      "source": [
        "Task#4\n"
      ],
      "metadata": {
        "id": "v6ia0W4Nb4Dh"
      }
    },
    {
      "cell_type": "code",
      "source": [
        "cities = [\"New York City\", \"Los Angeles\", \"Chicago\", \"Mountain View\", \"Denver\", \"Boston\"]\n",
        "\n",
        "short_cities = list(filter(lambda name: len(name) < 10, cities))\n",
        "print(short_cities)"
      ],
      "metadata": {
        "id": "ZIhortfyb7dc"
      },
      "execution_count": null,
      "outputs": []
    },
    {
      "cell_type": "markdown",
      "source": [
        "Task#5"
      ],
      "metadata": {
        "id": "lacfDLcScDPk"
      }
    },
    {
      "cell_type": "code",
      "source": [
        "\n",
        "names = input(\"Enter a list of names: \").split(\", \")\n",
        "\n",
        "assignments = list(map(int, input(\"Enter a list of missing assignment counts (comma-separated): \").split(\", \")))\n",
        "\n",
        "grades = list(map(int, input(\"Enter a list of grades (comma-separated): \").split(\", \")))\n",
        "\n",
        "message_template = \"Hi {},\\n\\nThis is a reminder that you have {} assignments left to submit before you can graduate. Your current grade is {} and can increase to {} if you submit all assignments before the due date.\\n\\n\"\n",
        "\n",
        "for name, assignment_count, grade in zip(names, assignments, grades):\n",
        "    potential_grade = grade + 2 * assignment_count\n",
        "    message = message_template.format(name, assignment_count, grade, potential_grade)\n",
        "    print(message)"
      ],
      "metadata": {
        "id": "ga7YfPbacCqu"
      },
      "execution_count": null,
      "outputs": []
    },
    {
      "cell_type": "markdown",
      "source": [
        "Task#6"
      ],
      "metadata": {
        "id": "R7KsWsqZcHn2"
      }
    },
    {
      "cell_type": "code",
      "source": [
        "def create_cast_list(filename):\n",
        "    cast_list = []\n",
        "    with open(filename) as file:\n",
        "        for line in file:\n",
        "            actor_name = line.strip().split(',')[0]\n",
        "            cast_list.append(actor_name)\n",
        "    return cast_list\n",
        "\n",
        "cast_list = create_cast_list(\"flying_circus_cast.txt\")\n",
        "print(cast_list)"
      ],
      "metadata": {
        "id": "l7df2Fm9cJd3"
      },
      "execution_count": null,
      "outputs": []
    }
  ]
}