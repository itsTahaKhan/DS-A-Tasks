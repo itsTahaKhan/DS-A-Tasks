{
  "nbformat": 4,
  "nbformat_minor": 0,
  "metadata": {
    "colab": {
      "provenance": [],
      "authorship_tag": "ABX9TyNqnG7EFLWlQJvRxIA0LmkB",
      "include_colab_link": true
    },
    "kernelspec": {
      "name": "python3",
      "display_name": "Python 3"
    },
    "language_info": {
      "name": "python"
    }
  },
  "cells": [
    {
      "cell_type": "markdown",
      "metadata": {
        "id": "view-in-github",
        "colab_type": "text"
      },
      "source": [
        "<a href=\"https://colab.research.google.com/github/Celestial00/DS-A/blob/main/(20sw050)lab2.ipynb\" target=\"_parent\"><img src=\"https://colab.research.google.com/assets/colab-badge.svg\" alt=\"Open In Colab\"/></a>"
      ]
    },
    {
      "cell_type": "markdown",
      "source": [
        "Task#1"
      ],
      "metadata": {
        "id": "JPMaI7pANG4q"
      }
    },
    {
      "cell_type": "code",
      "source": [
        "points = 174\n",
        "\n",
        "\n",
        "if points >= 1 and points <= 50:\n",
        "    result = \"Congratulations! You won a wooden rabbit!\"\n",
        "elif points >= 51 and points <= 150:\n",
        "    result = \"Congratulations! You won a no prize!\"\n",
        "elif points >= 151 and points <= 180:\n",
        "    result = \"Congratulations! You won a wafer-thin mint!\"\n",
        "elif points >= 181 and points <= 200:\n",
        "    result = \"Congratulations! You won a penguin!\"\n",
        "else:\n",
        "    result = \"Oh dear, no prize this time.\"\n",
        "\n",
        "print(result)"
      ],
      "metadata": {
        "id": "9VUhkptYM7XF"
      },
      "execution_count": null,
      "outputs": []
    },
    {
      "cell_type": "markdown",
      "source": [
        "Task#2"
      ],
      "metadata": {
        "id": "QHAoYEqgJk6d"
      }
    },
    {
      "cell_type": "code",
      "source": [
        "answer = int(input(\"Enter your number: \"))\n",
        "guess = 37\n",
        "\n",
        "if guess < answer:\n",
        "    result = \"Oops! Your guess was too low.\"\n",
        "elif guess > answer:\n",
        "    result = \"Oops! Your guess was too high.\"\n",
        "else:\n",
        "    result = \"Nice! Your guess matched the answer!\"\n",
        "\n",
        "print(result)"
      ],
      "metadata": {
        "colab": {
          "base_uri": "https://localhost:8080/"
        },
        "id": "0h7iIiMqJnNJ",
        "outputId": "40b50224-6ca0-420c-8964-f182f240c157"
      },
      "execution_count": 10,
      "outputs": [
        {
          "output_type": "stream",
          "name": "stdout",
          "text": [
            "Enter your number: 67\n",
            "Oops! Your guess was too low.\n"
          ]
        }
      ]
    },
    {
      "cell_type": "markdown",
      "source": [
        "Task#3"
      ],
      "metadata": {
        "id": "NLkWVT2bJxQN"
      }
    },
    {
      "cell_type": "code",
      "source": [
        "def calculate_tax(purchase_amount, state):\n",
        "    tax_rates = {\n",
        "        'HYD': 0.075,\n",
        "        'KHI': 0.095,\n",
        "        'ISL': 0.089\n",
        "    }\n",
        "\n",
        "    if state in tax_rates:\n",
        "        tax_rate = tax_rates[state]\n",
        "        tax_amount = purchase_amount * tax_rate\n",
        "        total_amount = purchase_amount + tax_amount\n",
        "        return total_amount\n",
        "    else:\n",
        "        return purchase_amount\n",
        "\n",
        "# Example usage:\n",
        "purchase_amount = 100.0\n",
        "state = 'KHI'\n",
        "total_amount = calculate_tax(purchase_amount, state)\n",
        "print(f\"Total amount to be paid: ${total_amount:.2f}\")"
      ],
      "metadata": {
        "colab": {
          "base_uri": "https://localhost:8080/"
        },
        "id": "p7fTX1CYJysD",
        "outputId": "e3bf0a49-c41d-45a7-94c7-8d8e49cd34cb"
      },
      "execution_count": 8,
      "outputs": [
        {
          "output_type": "stream",
          "name": "stdout",
          "text": [
            "Total amount to be paid: $107.50\n"
          ]
        }
      ]
    },
    {
      "cell_type": "markdown",
      "source": [
        "Task#4"
      ],
      "metadata": {
        "id": "LubTQcnBKDGD"
      }
    },
    {
      "cell_type": "code",
      "source": [
        "sentence = [\"the\", \"quick\", \"brown\", \"fox\", \"jumped\", \"over\", \"the\", \"lazy\", \"dog\"]\n",
        "\n",
        "for word in sentence:\n",
        "    print(word, end=\"\")\n"
      ],
      "metadata": {
        "colab": {
          "base_uri": "https://localhost:8080/"
        },
        "id": "6PXERhPEKEuP",
        "outputId": "6482ff37-3fae-4bc3-cd78-32c32d927b37"
      },
      "execution_count": 7,
      "outputs": [
        {
          "output_type": "stream",
          "name": "stdout",
          "text": [
            "thequickbrownfoxjumpedoverthelazydog"
          ]
        }
      ]
    },
    {
      "cell_type": "markdown",
      "source": [
        "Task#5"
      ],
      "metadata": {
        "id": "RtTNhcWOKIWc"
      }
    },
    {
      "cell_type": "code",
      "source": [
        "for num in range(5, 31, 5):\n",
        "    print(num, end=\" \")"
      ],
      "metadata": {
        "colab": {
          "base_uri": "https://localhost:8080/"
        },
        "id": "wdsB4LMdKKRQ",
        "outputId": "e0e6ef02-d2f6-4bc4-dee5-33652ab7fe79"
      },
      "execution_count": 6,
      "outputs": [
        {
          "output_type": "stream",
          "name": "stdout",
          "text": [
            "5 10 15 20 25 30 "
          ]
        }
      ]
    },
    {
      "cell_type": "markdown",
      "source": [
        "Task#6\n"
      ],
      "metadata": {
        "id": "LLLJvepjKcCe"
      }
    },
    {
      "cell_type": "code",
      "source": [
        "names = [\"Rick Sanchez\", \"Morty Smith\", \"Summer Smith\", \"Jerry Smith\", \"Beth Smith\"]\n",
        "first_names = []\n",
        "for name in names:\n",
        "    name_parts = name.split()\n",
        "    first_name = name_parts[0]\n",
        "    lower_first_name = first_name.lower()\n",
        "    first_names.append(lower_first_name)\n",
        "print(first_names)"
      ],
      "metadata": {
        "colab": {
          "base_uri": "https://localhost:8080/"
        },
        "id": "n9Q0F6fZKd3B",
        "outputId": "9b3c0147-4970-43d3-e27f-41a44dc61e44"
      },
      "execution_count": 5,
      "outputs": [
        {
          "output_type": "stream",
          "name": "stdout",
          "text": [
            "['rick', 'morty', 'summer', 'jerry', 'beth']\n"
          ]
        }
      ]
    },
    {
      "cell_type": "markdown",
      "source": [
        "Task#7"
      ],
      "metadata": {
        "id": "wh_0RkanLm7V"
      }
    },
    {
      "cell_type": "code",
      "source": [
        "\n",
        "multiples_3 = [num * 3 for num in range(1, 21)]\n",
        "\n",
        "print(multiples_3)"
      ],
      "metadata": {
        "colab": {
          "base_uri": "https://localhost:8080/"
        },
        "id": "mNKZjDFGLo0y",
        "outputId": "2d70a736-97ff-49b8-c337-85fb58101480"
      },
      "execution_count": 4,
      "outputs": [
        {
          "output_type": "stream",
          "name": "stdout",
          "text": [
            "[3, 6, 9, 12, 15, 18, 21, 24, 27, 30, 33, 36, 39, 42, 45, 48, 51, 54, 57, 60]\n"
          ]
        }
      ]
    },
    {
      "cell_type": "markdown",
      "source": [
        "Task#8"
      ],
      "metadata": {
        "id": "S8mNXzzbLt4O"
      }
    },
    {
      "cell_type": "code",
      "source": [
        "scores = {\"Rick Sanchez\": 70, \"Morty Smith\": 35, \"Summer Smith\": 82, \"Jerry Smith\": 23, \"Beth Smith\": 98}\n",
        "passed = [name for name, score in scores.items() if score >= 65]\n",
        "print(passed)"
      ],
      "metadata": {
        "colab": {
          "base_uri": "https://localhost:8080/"
        },
        "id": "w7U3t-JeLwKL",
        "outputId": "90a47171-dce4-49ad-fe1c-d5c65e6f5711"
      },
      "execution_count": 3,
      "outputs": [
        {
          "output_type": "stream",
          "name": "stdout",
          "text": [
            "['Rick Sanchez', 'Summer Smith', 'Beth Smith']\n"
          ]
        }
      ]
    },
    {
      "cell_type": "markdown",
      "source": [
        "Task#9"
      ],
      "metadata": {
        "id": "xeasrVfaL277"
      }
    },
    {
      "cell_type": "code",
      "source": [
        "cast_names = [\"Barney\", \"Robin\", \"Ted\", \"Lily\", \"Marshall\"]\n",
        "cast_heights = [72, 68, 72, 66, 76]\n",
        "cast = dict(zip(cast_names, cast_heights))\n",
        "print(cast)"
      ],
      "metadata": {
        "colab": {
          "base_uri": "https://localhost:8080/"
        },
        "id": "GOdj3o3VL4wI",
        "outputId": "f24eb2a2-7190-4062-81a4-6155d51e7be7"
      },
      "execution_count": 2,
      "outputs": [
        {
          "output_type": "stream",
          "name": "stdout",
          "text": [
            "{'Barney': 72, 'Robin': 68, 'Ted': 72, 'Lily': 66, 'Marshall': 76}\n"
          ]
        }
      ]
    },
    {
      "cell_type": "markdown",
      "source": [
        "Task#10"
      ],
      "metadata": {
        "id": "cb9xWAzBMYah"
      }
    },
    {
      "cell_type": "code",
      "source": [
        "cast = [\"Barney Stinson\", \"Robin Scherbatsky\", \"Ted Mosby\", \"Lily Aldrin\", \"Marshall Eriksen\"]\n",
        "heights = [72, 68, 72, 66, 76]\n",
        "\n",
        "for index, name in enumerate(cast):\n",
        "    cast[index] = f\"{name}{heights[index]}\"\n",
        "\n",
        "print(cast)"
      ],
      "metadata": {
        "colab": {
          "base_uri": "https://localhost:8080/"
        },
        "id": "P88V2RcWMaVK",
        "outputId": "e5f0d7ea-9b79-4063-fc4d-e667f75f2cf9"
      },
      "execution_count": 1,
      "outputs": [
        {
          "output_type": "stream",
          "name": "stdout",
          "text": [
            "['Barney Stinson72', 'Robin Scherbatsky68', 'Ted Mosby72', 'Lily Aldrin66', 'Marshall Eriksen76']\n"
          ]
        }
      ]
    }
  ]
}